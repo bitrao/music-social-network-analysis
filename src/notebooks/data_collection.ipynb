{
 "cells": [
  {
   "cell_type": "code",
   "execution_count": 1,
   "metadata": {},
   "outputs": [],
   "source": [
    "import os\n",
    "import sys\n",
    "from pathlib import Path\n",
    "import asyncio\n",
    "import pandas as pd\n",
    "from datetime import datetime, timedelta\n",
    "\n",
    "# Add project root to Python path\n",
    "project_root = Path.cwd().parent\n",
    "sys.path.append(str(project_root))\n",
    "\n",
    "# Import collectors\n",
    "from collectors.collectors import (\n",
    "    collect_x_data,\n",
    "    collect_youtube_data,\n",
    "    collect_reddit_data,\n",
    "    collect_tiktok_data,\n",
    ")\n",
    "\n",
    "# Load environment variables\n",
    "from dotenv import load_dotenv\n",
    "load_dotenv()\n",
    "\n",
    "# Create data directories\n",
    "Path(\"data/raw\").mkdir(parents=True, exist_ok=True)"
   ]
  },
  {
   "cell_type": "markdown",
   "metadata": {},
   "source": [
    "## 1. YouTube Data Collection"
   ]
  },
  {
   "cell_type": "code",
   "execution_count": 3,
   "metadata": {},
   "outputs": [],
   "source": [
    "# Collect YouTube data\n",
    "async def get_youtube_data(target):\n",
    "    print(f\"Collecting YouTube data for {target}...\")\n",
    "    youtube_result = await collect_youtube_data(\n",
    "        song_id=target,\n",
    "        api_key=os.getenv('YOUTUBE_API_KEY'),\n",
    "    )\n",
    "\n",
    "    if 'error' not in youtube_result:\n",
    "        # Convert to DataFrames\n",
    "        video_df = pd.DataFrame([youtube_result['data']])  # Wrap single video in list for DataFrame\n",
    "        comments_df = pd.DataFrame(youtube_result['comments'])\n",
    "        \n",
    "        # Save data\n",
    "        timestamp = datetime.now().strftime('%Y%m%d_%H%M%S')\n",
    "        safe_target = target.replace(' ', '_').lower()\n",
    "        \n",
    "        video_file = f\"data/raw/{safe_target}_youtube_video.csv\"\n",
    "        comments_file = f\"data/raw/{safe_target}_youtube_comments.csv\"\n",
    "        \n",
    "        video_df.to_csv(video_file, index=False)\n",
    "        comments_df.to_csv(comments_file, index=False)\n",
    "        \n",
    "        print(f\"✓{len(comments_df)} comments\")\n",
    "        print(f\"Saved to: {video_file} and {comments_file}\")\n"
   ]
  },
  {
   "cell_type": "code",
   "execution_count": 4,
   "metadata": {},
   "outputs": [
    {
     "name": "stderr",
     "output_type": "stream",
     "text": [
      "2025-05-20 01:48:09,623 - googleapiclient.discovery_cache - INFO - file_cache is only supported with oauth2client<4.0.0\n"
     ]
    },
    {
     "name": "stdout",
     "output_type": "stream",
     "text": [
      "Collecting YouTube data for Kendrick Lamar - Luther...\n",
      "✓50776 comments\n",
      "Saved to: data/raw/kendrick_lamar_-_luther_youtube_video.csv and data/raw/kendrick_lamar_-_luther_youtube_comments.csv\n"
     ]
    }
   ],
   "source": [
    "await get_youtube_data(\"Kendrick Lamar - Luther\")"
   ]
  },
  {
   "cell_type": "markdown",
   "metadata": {},
   "source": [
    "## 3. X (Twitter) Data Collection"
   ]
  },
  {
   "cell_type": "code",
   "execution_count": null,
   "metadata": {},
   "outputs": [],
   "source": [
    "# Collect X data\n",
    "print(\"Collecting X data...\")\n",
    "x_result = await collect_x_data(\n",
    "    song_id=target,\n",
    "    api_key=os.getenv('X_API_KEY'),\n",
    "    api_secret=os.getenv('X_API_SECRET'),\n",
    "    start_date=start_date,\n",
    "    end_date=end_date\n",
    ")\n",
    "\n",
    "if 'error' not in x_result:\n",
    "    # Convert to DataFrame\n",
    "    x_df = pd.DataFrame(x_result['data'])\n",
    "    \n",
    "    # Save data\n",
    "    timestamp = datetime.now().strftime('%Y%m%d_%H%M%S')\n",
    "    safe_target = target.replace(' ', '_').lower()\n",
    "    x_file = f\"data/raw/{safe_target}_x_{timestamp}.csv\"\n",
    "    \n",
    "    x_df.to_csv(x_file, index=False)\n",
    "    \n",
    "    print(f\"✓ Found {len(x_df)} posts\")\n",
    "    print(f\"Saved to: {x_file}\")\n",
    "else:\n",
    "    print(f\"✗ Error collecting X data: {x_result['error']}\")"
   ]
  },
  {
   "cell_type": "markdown",
   "metadata": {},
   "source": [
    "## 4. Reddit Data Collection"
   ]
  },
  {
   "cell_type": "code",
   "execution_count": null,
   "metadata": {},
   "outputs": [],
   "source": [
    "# Collect Reddit data\n",
    "print(\"Collecting Reddit data...\")\n",
    "reddit_result = await collect_reddit_data(\n",
    "    song_id=target,\n",
    "    client_id=os.getenv('REDDIT_CLIENT_ID'),\n",
    "    client_secret=os.getenv('REDDIT_CLIENT_SECRET'),\n",
    "    start_date=start_date,\n",
    "    end_date=end_date\n",
    ")\n",
    "\n",
    "if 'error' not in reddit_result:\n",
    "    # Convert to DataFrame\n",
    "    reddit_df = pd.DataFrame(reddit_result['data'])\n",
    "    \n",
    "    # Save data\n",
    "    timestamp = datetime.now().strftime('%Y%m%d_%H%M%S')\n",
    "    safe_target = target.replace(' ', '_').lower()\n",
    "    reddit_file = f\"data/raw/{safe_target}_reddit_{timestamp}.csv\"\n",
    "    \n",
    "    reddit_df.to_csv(reddit_file, index=False)\n",
    "    \n",
    "    print(f\"✓ Found {len(reddit_df)} posts\")\n",
    "    print(f\"Saved to: {reddit_file}\")\n",
    "else:\n",
    "    print(f\"✗ Error collecting Reddit data: {reddit_result['error']}\")"
   ]
  },
  {
   "cell_type": "markdown",
   "metadata": {},
   "source": [
    "## 5. TikTok Data Collection"
   ]
  },
  {
   "cell_type": "code",
   "execution_count": null,
   "metadata": {},
   "outputs": [],
   "source": [
    "# Collect TikTok data\n",
    "print(\"Collecting TikTok data...\")\n",
    "tiktok_result = await collect_tiktok_data(\n",
    "    song_id=target,\n",
    "    ms_token=os.getenv('TIKTOK_MS_TOKEN'),\n",
    "    start_date=start_date,\n",
    "    end_date=end_date\n",
    ")\n",
    "\n",
    "if 'error' not in tiktok_result:\n",
    "    # Convert to DataFrame\n",
    "    tiktok_df = pd.DataFrame(tiktok_result['data'])\n",
    "    \n",
    "    # Save data\n",
    "    timestamp = datetime.now().strftime('%Y%m%d_%H%M%S')\n",
    "    safe_target = target.replace(' ', '_').lower()\n",
    "    tiktok_file = f\"data/raw/{safe_target}_tiktok_{timestamp}.csv\"\n",
    "    \n",
    "    tiktok_df.to_csv(tiktok_file, index=False)\n",
    "    \n",
    "    print(f\"✓ Found {len(tiktok_df)} videos\")\n",
    "    print(f\"Saved to: {tiktok_file}\")\n",
    "else:\n",
    "    print(f\"✗ Error collecting TikTok data: {tiktok_result['error']}\")"
   ]
  },
  {
   "cell_type": "markdown",
   "metadata": {},
   "source": [
    "## 6. Save Collection Metadata"
   ]
  },
  {
   "cell_type": "code",
   "execution_count": null,
   "metadata": {},
   "outputs": [],
   "source": [
    "# Save collection metadata\n",
    "metadata = {\n",
    "    'target': target,\n",
    "    'date_range': {\n",
    "        'start': start_date.isoformat(),\n",
    "        'end': end_date.isoformat()\n",
    "    },\n",
    "    'timestamp': datetime.now().strftime('%Y%m%d_%H%M%S'),\n",
    "    'files': {\n",
    "        'youtube': {\n",
    "            'videos': videos_file if 'videos_file' in locals() else None,\n",
    "            'comments': comments_file if 'comments_file' in locals() else None\n",
    "        },\n",
    "        'x': x_file if 'x_file' in locals() else None,\n",
    "        'reddit': reddit_file if 'reddit_file' in locals() else None,\n",
    "        'tiktok': tiktok_file if 'tiktok_file' in locals() else None\n",
    "    }\n",
    "}\n",
    "\n",
    "import json\n",
    "metadata_file = f'data/raw/{safe_target}_collection_metadata_{metadata[\"timestamp\"]}.json'\n",
    "with open(metadata_file, 'w') as f:\n",
    "    json.dump(metadata, f, indent=2)\n",
    "\n",
    "print(f\"\\nCollection metadata saved to: {metadata_file}\")"
   ]
  }
 ],
 "metadata": {
  "kernelspec": {
   "display_name": "Python 3",
   "language": "python",
   "name": "python3"
  },
  "language_info": {
   "codemirror_mode": {
    "name": "ipython",
    "version": 3
   },
   "file_extension": ".py",
   "mimetype": "text/x-python",
   "name": "python",
   "nbconvert_exporter": "python",
   "pygments_lexer": "ipython3",
   "version": "3.9.0"
  }
 },
 "nbformat": 4,
 "nbformat_minor": 4
}
