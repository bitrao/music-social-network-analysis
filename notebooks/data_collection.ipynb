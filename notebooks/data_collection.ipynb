{
    "cells": [
     {
      "cell_type": "markdown",
      "metadata": {},
      "source": [
       "# Social Media Data Collection\n",
       "\n",
       "This notebook focuses on collecting data from various social media platforms and saving it in CSV format for further analysis."
      ]
     },
     {
      "cell_type": "code",
      "execution_count": null,
      "metadata": {},
      "source": [
       "import os\n",
       "import sys\n",
       "from pathlib import Path\n",
       "import asyncio\n",
       "import pandas as pd\n",
       "from datetime import datetime\n",
       "\n",
       "# Add project root to Python path\n",
       "project_root = Path.cwd().parent\n",
       "sys.path.append(str(project_root))\n",
       "\n",
       "# Import collectors\n",
       "from src.collectors.collectors import (\n",
       "    collect_x_data,\n",
       "    collect_youtube_data,\n",
       "    collect_reddit_data,\n",
       "    collect_tiktok_data\n",
       ")\n",
       "\n",
       "# Load environment variables\n",
       "from dotenv import load_dotenv\n",
       "load_dotenv()\n",
       "\n",
       "# Create data directories\n",
       "Path(\"data/raw\").mkdir(parents=True, exist_ok=True)"
      ]
     },
     {
      "cell_type": "markdown",
      "metadata": {},
      "source": [
       "## 1. Define Collection Targets\n",
       "\n",
       "Define the artists or songs you want to analyze."
      ]
     },
     {
      "cell_type": "code",
      "execution_count": null,
      "metadata": {},
      "source": [
       "# Define your targets\n",
       "targets = [\n",
       "    \"Taylor Swift\",  # Artist analysis\n",
       "    \"Taylor Swift Anti-Hero\",  # Specific song analysis\n",
       "    \"Drake\",  # Another artist for comparison\n",
       "    # Add more targets as needed\n",
       "]\n",
       "\n",
       "# Collection parameters\n",
       "params = {\n",
       "    'days': 30,  # Time window for data collection\n",
       "    'platforms': ['x', 'youtube', 'reddit', 'tiktok']  # Platforms to collect from\n",
       "}"
      ]
     },
     {
      "cell_type": "markdown",
      "metadata": {},
      "source": [
       "## 2. Data Collection Function"
      ]
     },
     {
      "cell_type": "code",
      "execution_count": null,
      "metadata": {},
      "source": [
       "async def collect_data(target: str, days: int = 30):\n",
       "    \"\"\"Collect data from all platforms and return as DataFrames\"\"\"\n",
       "    print(f\"\\nCollecting data for: {target}\")\n",
       "    platform_data = {}\n",
       "    \n",
       "    try:\n",
       "        if 'x' in params['platforms']:\n",
       "            print(\"Collecting from X...\")\n",
       "            x_result = await collect_x_data(\n",
       "                song_id=target,\n",
       "                api_key=os.getenv('X_API_KEY'),\n",
       "                api_secret=os.getenv('X_API_SECRET'),\n",
       "                days=days\n",
       "            )\n",
       "            if 'error' not in x_result:\n",
       "                platform_data['x'] = pd.DataFrame(x_result['data'])\n",
       "                print(f\"✓ Found {len(platform_data['x'])} posts on X\")\n",
       "            else:\n",
       "                print(f\"✗ Error collecting X data: {x_result['error']}\")\n",
       "            \n",
       "        if 'youtube' in params['platforms']:\n",
       "            print(\"Collecting from YouTube...\")\n",
       "            youtube_result = await collect_youtube_data(\n",
       "                song_id=target,\n",
       "                api_key=os.getenv('YOUTUBE_API_KEY'),\n",
       "                days=days\n",
       "            )\n",
       "            if 'error' not in youtube_result:\n",
       "                platform_data['youtube'] = pd.DataFrame(youtube_result['data'])\n",
       "                print(f\"✓ Found {len(platform_data['youtube'])} videos on YouTube\")\n",
       "            else:\n",
       "                print(f\"✗ Error collecting YouTube data: {youtube_result['error']}\")\n",
       "\n",
       "        if 'reddit' in params['platforms']:\n",
       "            print(\"Collecting from Reddit...\")\n",
       "            reddit_result = await collect_reddit_data(\n",
       "                song_id=target,\n",
       "                client_id=os.getenv('REDDIT_CLIENT_ID'),\n",
       "                client_secret=os.getenv('REDDIT_CLIENT_SECRET'),\n",
       "                days=days\n",
       "            )\n",
       "            if 'error' not in reddit_result:\n",
       "                platform_data['reddit'] = pd.DataFrame(reddit_result['data'])\n",
       "                print(f\"✓ Found {len(platform_data['reddit'])} discussions on Reddit\")\n",
       "            else:\n",
       "                print(f\"✗ Error collecting Reddit data: {reddit_result['error']}\")\n",
       "                \n",
       "        if 'tiktok' in params['platforms']:\n",
       "            print(\"Collecting from TikTok...\")\n",
       "            tiktok_result = await collect_tiktok_data(\n",
       "                song_id=target,\n",
       "                ms_token=os.getenv('TIKTOK_MS_TOKEN'),\n",
       "                days=days\n",
       "            )\n",
       "            if 'error' not in tiktok_result:\n",
       "                platform_data['tiktok'] = pd.DataFrame(tiktok_result['data'])\n",
       "                print(f\"✓ Found {len(platform_data['tiktok'])} videos on TikTok\")\n",
       "            else:\n",
       "                print(f\"✗ Error collecting TikTok data: {tiktok_result['error']}\")\n",
       "\n",
       "    except Exception as e:\n",
       "        print(f\"Error during data collection: {str(e)}\")\n",
       "    \n",
       "    return platform_data"
      ]
     },
     {
      "cell_type": "markdown",
      "metadata": {},
      "source": [
       "## 3. Collect and Save Data"
      ]
     },
     {
      "cell_type": "code",
      "execution_count": null,
      "metadata": {},
      "source": [
       "# Generate timestamp for this collection run\n",
       "timestamp = datetime.now().strftime('%Y%m%d_%H%M%S')\n",
       "\n",
       "# Dictionary to store file paths\n",
       "saved_files = {}\n",
       "\n",
       "# Collect and save data for each target\n",
       "for target in targets:\n",
       "    # Collect data\n",
       "    platform_data = await collect_data(target, params['days'])\n",
       "    \n",
       "    # Save data for each platform\n",
       "    target_files = {}\n",
       "    for platform, df in platform_data.items():\n",
       "        # Create sanitized filename\n",
       "        safe_target = target.replace(' ', '_').lower()\n",
       "        filename = f\"data/raw/{safe_target}_{platform}_{timestamp}.csv\"\n",
       "        \n",
       "        # Save to CSV\n",
       "        df.to_csv(filename, index=False)\n",
       "        target_files[platform] = filename\n",
       "        print(f\"Saved {platform} data to: {filename}\")\n",
       "    \n",
       "    saved_files[target] = target_files\n",
       "\n",
       "# Save collection metadata\n",
       "metadata = {\n",
       "    'timestamp': timestamp,\n",
       "    'targets': targets,\n",
       "    'parameters': params,\n",
       "    'files': saved_files\n",
       "}\n",
       "\n",
       "import json\n",
       "with open(f'data/raw/collection_metadata_{timestamp}.json', 'w') as f:\n",
       "    json.dump(metadata, f, indent=2)\n",
       "\n",
       "print(\"\\nCollection complete! Data saved to CSV files.\")"
      ]
     }
    ],
    "metadata": {
     "kernelspec": {
      "display_name": "Python 3",
      "language": "python",
      "name": "python3"
     },
     "language_info": {
      "codemirror_mode": {
       "name": "ipython",
       "version": 3
      },
      "file_extension": ".py",
      "mimetype": "text/x-python",
      "name": "python",
      "nbconvert_exporter": "python",
      "pygments_lexer": "ipython3",
      "version": "3.9.0"
     }
    },
    "nbformat": 4,
    "nbformat_minor": 4
   }